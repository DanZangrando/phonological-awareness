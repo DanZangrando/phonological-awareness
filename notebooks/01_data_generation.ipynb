{
 "cells": [
  {
   "cell_type": "markdown",
   "id": "017b8137",
   "metadata": {},
   "source": [
    "# Cuaderno 01: Generación del Dataset Auditivo\n",
    "\n",
    "**Objetivo:** Crear un dataset de archivos de audio `.wav` a partir de una lista de fonemas/letras clave para español e inglés.\n",
    "\n",
    "**Flujo de Trabajo:**\n",
    "1.  **Instalación de Librerías**: Instalar `gTTS` para la síntesis de voz y `pydub` para la conversión de audio.\n",
    "2.  **Definición de Fonemas**: Crear las listas de sonidos a generar para cada idioma.\n",
    "3.  **Generación de Audio**: Iterar sobre las listas, generar un archivo `.mp3` para cada fonema usando `gTTS`, y convertirlo al formato `.wav` usando `pydub`."
   ]
  },
  {
   "cell_type": "markdown",
   "id": "35353702",
   "metadata": {},
   "source": [
    "## Paso 1: Instalación de Librerías\n",
    "\n",
    "Instalamos las dos librerías principales que necesitamos para este cuaderno.\n",
    "* `gTTS` (Google Text-to-Speech): Convierte texto en audio.\n",
    "* `pydub`: Una librería de alto nivel para manipulación de audio, que usaremos para exportar a formato `.wav`."
   ]
  },
  {
   "cell_type": "code",
   "execution_count": 1,
   "id": "da5ba352",
   "metadata": {},
   "outputs": [
    {
     "name": "stdout",
     "output_type": "stream",
     "text": [
      "Collecting gTTS\n",
      "  Downloading gTTS-2.5.4-py3-none-any.whl.metadata (4.1 kB)\n",
      "Collecting pydub\n",
      "  Downloading pydub-0.25.1-py2.py3-none-any.whl.metadata (1.4 kB)\n",
      "Collecting requests<3,>=2.27 (from gTTS)\n",
      "  Using cached requests-2.32.5-py3-none-any.whl.metadata (4.9 kB)\n",
      "Collecting click<8.2,>=7.1 (from gTTS)\n",
      "  Downloading click-8.1.8-py3-none-any.whl.metadata (2.3 kB)\n",
      "Collecting charset_normalizer<4,>=2 (from requests<3,>=2.27->gTTS)\n",
      "  Using cached charset_normalizer-3.4.3-cp312-cp312-manylinux2014_x86_64.manylinux_2_17_x86_64.manylinux_2_28_x86_64.whl.metadata (36 kB)\n",
      "Collecting idna<4,>=2.5 (from requests<3,>=2.27->gTTS)\n",
      "  Using cached idna-3.10-py3-none-any.whl.metadata (10 kB)\n",
      "Collecting urllib3<3,>=1.21.1 (from requests<3,>=2.27->gTTS)\n",
      "  Using cached urllib3-2.5.0-py3-none-any.whl.metadata (6.5 kB)\n",
      "Collecting certifi>=2017.4.17 (from requests<3,>=2.27->gTTS)\n",
      "  Using cached certifi-2025.8.3-py3-none-any.whl.metadata (2.4 kB)\n",
      "Downloading gTTS-2.5.4-py3-none-any.whl (29 kB)\n",
      "Downloading pydub-0.25.1-py2.py3-none-any.whl (32 kB)\n",
      "Downloading click-8.1.8-py3-none-any.whl (98 kB)\n",
      "\u001b[2K   \u001b[90m━━━━━━━━━━━━━━━━━━━━━━━━━━━━━━━━━━━━━━━━\u001b[0m \u001b[32m98.2/98.2 kB\u001b[0m \u001b[31m5.0 MB/s\u001b[0m eta \u001b[36m0:00:00\u001b[0m\n",
      "\u001b[?25hUsing cached requests-2.32.5-py3-none-any.whl (64 kB)\n",
      "Using cached certifi-2025.8.3-py3-none-any.whl (161 kB)\n",
      "Using cached charset_normalizer-3.4.3-cp312-cp312-manylinux2014_x86_64.manylinux_2_17_x86_64.manylinux_2_28_x86_64.whl (151 kB)\n",
      "Using cached idna-3.10-py3-none-any.whl (70 kB)\n",
      "Using cached urllib3-2.5.0-py3-none-any.whl (129 kB)\n",
      "Installing collected packages: pydub, urllib3, idna, click, charset_normalizer, certifi, requests, gTTS\n",
      "Successfully installed certifi-2025.8.3 charset_normalizer-3.4.3 click-8.1.8 gTTS-2.5.4 idna-3.10 pydub-0.25.1 requests-2.32.5 urllib3-2.5.0\n",
      "Note: you may need to restart the kernel to use updated packages.\n"
     ]
    }
   ],
   "source": [
    "%pip install gTTS pydub"
   ]
  },
  {
   "cell_type": "markdown",
   "id": "cfd86ca3",
   "metadata": {},
   "source": [
    "## Paso 2: Configuración y Definición de Listas de Fonemas\n",
    "\n",
    "Importamos las librerías necesarias, definimos las rutas de salida y creamos las listas de fonemas/letras para cada idioma. Las listas están diseñadas para cubrir los sonidos más representativos."
   ]
  },
  {
   "cell_type": "code",
   "execution_count": null,
   "id": "3a1816ee",
   "metadata": {},
   "outputs": [
    {
     "name": "stdout",
     "output_type": "stream",
     "text": [
      "Se generarán 24 audios para español.\n",
      "Se generarán 32 audios para inglés.\n"
     ]
    },
    {
     "name": "stderr",
     "output_type": "stream",
     "text": [
      "/home/daniel/Proyectos/phonological-awareness/venv/lib/python3.12/site-packages/pydub/utils.py:170: RuntimeWarning: Couldn't find ffmpeg or avconv - defaulting to ffmpeg, but may not work\n",
      "  warn(\"Couldn't find ffmpeg or avconv - defaulting to ffmpeg, but may not work\", RuntimeWarning)\n"
     ]
    }
   ],
   "source": [
    "import os\n",
    "from pathlib import Path\n",
    "from gtts import gTTS\n",
    "from pydub import AudioSegment\n",
    "\n",
    "# --- Rutas de Salida ---\n",
    "project_root = Path.cwd().parent\n",
    "# Creamos carpetas de salida específicas para cada idioma\n",
    "output_dir_es = project_root / \"data/02_processed/phoneme_audio/es\"\n",
    "output_dir_en = project_root / \"data/02_processed/phoneme_audio/en\"\n",
    "\n",
    "output_dir_es.mkdir(parents=True, exist_ok=True)\n",
    "output_dir_en.mkdir(parents=True, exist_ok=True)\n",
    "\n",
    "\n",
    "# --- Listas de Fonemas/Letras ---\n",
    "\n",
    "# Lista para español (incluye vocales, consonantes y dígrafos)\n",
    "phonemes_es = [\n",
    "    'a', 'e', 'i', 'o', 'u',\n",
    "    'b', \"c\", 'd', 'f', 'g', 'j',\"h\", 'k', 'l', 'm', 'n', 'ñ', 'p', 'r', 'rr', 's', 't', 'y',\"v\", 'z',\n",
    "    'ch', 'll'\n",
    "]\n",
    "\n",
    "# Lista para inglés (incluye sonidos de vocales cortas/largas y dígrafos comunes)\n",
    "phonemes_en = [\n",
    "    'a', 'e', 'i', 'o', 'u', # Vocales cortas\n",
    "    'ay', 'ee', 'igh', 'oh', 'oo', # Vocales largas y diptongos\n",
    "    'b',\"c\", 'd', 'f', 'g', 'h', 'j', 'k', 'l', 'm', 'n', 'p', 'r', 's', 't', 'v', 'w', 'y', 'z',\n",
    "    'ch', 'sh', 'th', 'ng'\n",
    "]\n",
    "\n",
    "print(f\"Se generarán {len(phonemes_es)} audios para español.\")\n",
    "print(f\"Se generarán {len(phonemes_en)} audios para inglés.\")"
   ]
  }
 ],
 "metadata": {
  "kernelspec": {
   "display_name": "venv",
   "language": "python",
   "name": "python3"
  },
  "language_info": {
   "codemirror_mode": {
    "name": "ipython",
    "version": 3
   },
   "file_extension": ".py",
   "mimetype": "text/x-python",
   "name": "python",
   "nbconvert_exporter": "python",
   "pygments_lexer": "ipython3",
   "version": "3.12.3"
  }
 },
 "nbformat": 4,
 "nbformat_minor": 5
}
