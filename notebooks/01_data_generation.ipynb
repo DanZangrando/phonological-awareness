{
 "cells": [
  {
   "cell_type": "markdown",
   "id": "017b8137",
   "metadata": {},
   "source": [
    "# Cuaderno 01: Generación del Dataset Auditivo\n",
    "\n",
    "**Objetivo:** Crear un dataset de archivos de audio `.wav` a partir de una lista de fonemas/letras clave para español e inglés.\n",
    "\n",
    "**Flujo de Trabajo:**\n",
    "1.  **Instalación de Librerías**: Instalar `gTTS` para la síntesis de voz y `pydub` para la conversión de audio.\n",
    "2.  **Definición de Fonemas**: Crear las listas de sonidos a generar para cada idioma.\n",
    "3.  **Generación de Audio**: Iterar sobre las listas, generar un archivo `.mp3` para cada fonema usando `gTTS`, y convertirlo al formato `.wav` usando `pydub`."
   ]
  },
  {
   "cell_type": "markdown",
   "id": "35353702",
   "metadata": {},
   "source": [
    "## Paso 1: Instalación de Librerías\n",
    "\n",
    "Instalamos las dos librerías principales que necesitamos para este cuaderno.\n",
    "* `gTTS` (Google Text-to-Speech): Convierte texto en audio.\n",
    "* `pydub`: Una librería de alto nivel para manipulación de audio, que usaremos para exportar a formato `.wav`."
   ]
  },
  {
   "cell_type": "code",
   "execution_count": 1,
   "id": "da5ba352",
   "metadata": {},
   "outputs": [
    {
     "name": "stdout",
     "output_type": "stream",
     "text": [
      "Requirement already satisfied: gTTS in /home/daniel/Proyectos/phonological-awareness/venv/lib/python3.12/site-packages (2.5.4)\n",
      "Requirement already satisfied: pydub in /home/daniel/Proyectos/phonological-awareness/venv/lib/python3.12/site-packages (0.25.1)\n",
      "Requirement already satisfied: requests<3,>=2.27 in /home/daniel/Proyectos/phonological-awareness/venv/lib/python3.12/site-packages (from gTTS) (2.32.5)\n",
      "Requirement already satisfied: click<8.2,>=7.1 in /home/daniel/Proyectos/phonological-awareness/venv/lib/python3.12/site-packages (from gTTS) (8.1.8)\n",
      "Requirement already satisfied: charset_normalizer<4,>=2 in /home/daniel/Proyectos/phonological-awareness/venv/lib/python3.12/site-packages (from requests<3,>=2.27->gTTS) (3.4.3)\n",
      "Requirement already satisfied: idna<4,>=2.5 in /home/daniel/Proyectos/phonological-awareness/venv/lib/python3.12/site-packages (from requests<3,>=2.27->gTTS) (3.10)\n",
      "Requirement already satisfied: urllib3<3,>=1.21.1 in /home/daniel/Proyectos/phonological-awareness/venv/lib/python3.12/site-packages (from requests<3,>=2.27->gTTS) (2.5.0)\n",
      "Requirement already satisfied: certifi>=2017.4.17 in /home/daniel/Proyectos/phonological-awareness/venv/lib/python3.12/site-packages (from requests<3,>=2.27->gTTS) (2025.8.3)\n",
      "Note: you may need to restart the kernel to use updated packages.\n"
     ]
    }
   ],
   "source": [
    "%pip install gTTS pydub"
   ]
  },
  {
   "cell_type": "markdown",
   "id": "cfd86ca3",
   "metadata": {},
   "source": [
    "## Paso 2: Configuración y Definición de Listas de Fonemas\n",
    "\n",
    "Importamos las librerías necesarias, definimos las rutas de salida y creamos las listas de fonemas/letras para cada idioma. Las listas están diseñadas para cubrir los sonidos más representativos."
   ]
  },
  {
   "cell_type": "code",
   "execution_count": 2,
   "id": "3a1816ee",
   "metadata": {},
   "outputs": [
    {
     "name": "stdout",
     "output_type": "stream",
     "text": [
      "Se generarán 27 audios para español.\n",
      "Se generarán 33 audios para inglés.\n"
     ]
    }
   ],
   "source": [
    "import os\n",
    "from pathlib import Path\n",
    "from gtts import gTTS\n",
    "from pydub import AudioSegment\n",
    "\n",
    "# --- Rutas de Salida ---\n",
    "project_root = Path.cwd().parent\n",
    "# Creamos carpetas de salida específicas para cada idioma\n",
    "output_dir_es = project_root / \"data/02_processed/phoneme_audio/es\"\n",
    "output_dir_en = project_root / \"data/02_processed/phoneme_audio/en\"\n",
    "\n",
    "output_dir_es.mkdir(parents=True, exist_ok=True)\n",
    "output_dir_en.mkdir(parents=True, exist_ok=True)\n",
    "\n",
    "\n",
    "# --- Listas de Fonemas/Letras ---\n",
    "\n",
    "# Lista para español (incluye vocales, consonantes y dígrafos)\n",
    "phonemes_es = [\n",
    "    'a', 'e', 'i', 'o', 'u',\n",
    "    'b', \"c\", 'd', 'f', 'g', 'j',\"h\", 'k', 'l', 'm', 'n', 'ñ', 'p', 'r', 'rr', 's', 't', 'y',\"v\", 'z',\n",
    "    'ch', 'll'\n",
    "]\n",
    "\n",
    "# Lista para inglés (incluye sonidos de vocales cortas/largas y dígrafos comunes)\n",
    "phonemes_en = [\n",
    "    'a', 'e', 'i', 'o', 'u', # Vocales cortas\n",
    "    'ay', 'ee', 'igh', 'oh', 'oo', # Vocales largas y diptongos\n",
    "    'b',\"c\", 'd', 'f', 'g', 'h', 'j', 'k', 'l', 'm', 'n', 'p', 'r', 's', 't', 'v', 'w', 'y', 'z',\n",
    "    'ch', 'sh', 'th', 'ng'\n",
    "]\n",
    "\n",
    "print(f\"Se generarán {len(phonemes_es)} audios para español.\")\n",
    "print(f\"Se generarán {len(phonemes_en)} audios para inglés.\")"
   ]
  },
  {
   "cell_type": "markdown",
   "id": "628a5678",
   "metadata": {},
   "source": [
    "## Paso 3: Generación de los Archivos de Audio\n",
    "\n",
    "Ahora, creamos una función que toma una lista de fonemas, un idioma y una carpeta de salida, y genera los archivos `.wav`. El proceso es: `Texto -> gTTS -> .mp3 temporal -> pydub -> .wav final`."
   ]
  },
  {
   "cell_type": "code",
   "execution_count": 3,
   "id": "6980ddb9",
   "metadata": {},
   "outputs": [
    {
     "name": "stdout",
     "output_type": "stream",
     "text": [
      "\n",
      "--- Iniciando generación para el idioma: es ---\n",
      "(1/27) El archivo para 'a' ya existe. Omitiendo.\n",
      "(2/27) El archivo para 'e' ya existe. Omitiendo.\n",
      "(3/27) El archivo para 'i' ya existe. Omitiendo.\n",
      "(4/27) El archivo para 'o' ya existe. Omitiendo.\n",
      "(5/27) El archivo para 'u' ya existe. Omitiendo.\n",
      "(6/27) El archivo para 'b' ya existe. Omitiendo.\n",
      "(7/27) El archivo para 'c' ya existe. Omitiendo.\n",
      "(8/27) El archivo para 'd' ya existe. Omitiendo.\n",
      "(9/27) El archivo para 'f' ya existe. Omitiendo.\n",
      "(10/27) El archivo para 'g' ya existe. Omitiendo.\n",
      "(11/27) El archivo para 'j' ya existe. Omitiendo.\n",
      "(12/27) El archivo para 'h' ya existe. Omitiendo.\n",
      "(13/27) El archivo para 'k' ya existe. Omitiendo.\n",
      "(14/27) El archivo para 'l' ya existe. Omitiendo.\n",
      "(15/27) El archivo para 'm' ya existe. Omitiendo.\n",
      "(16/27) El archivo para 'n' ya existe. Omitiendo.\n",
      "(17/27) El archivo para 'ñ' ya existe. Omitiendo.\n",
      "(18/27) El archivo para 'p' ya existe. Omitiendo.\n",
      "(19/27) El archivo para 'r' ya existe. Omitiendo.\n",
      "(20/27) El archivo para 'rr' ya existe. Omitiendo.\n",
      "(21/27) El archivo para 's' ya existe. Omitiendo.\n",
      "(22/27) El archivo para 't' ya existe. Omitiendo.\n",
      "(23/27) El archivo para 'y' ya existe. Omitiendo.\n",
      "(24/27) El archivo para 'v' ya existe. Omitiendo.\n",
      "(25/27) El archivo para 'z' ya existe. Omitiendo.\n",
      "(26/27) El archivo para 'ch' ya existe. Omitiendo.\n",
      "(27/27) El archivo para 'll' ya existe. Omitiendo.\n",
      "\n",
      "--- Iniciando generación para el idioma: en ---\n",
      "(1/33) El archivo para 'a' ya existe. Omitiendo.\n",
      "(2/33) El archivo para 'e' ya existe. Omitiendo.\n",
      "(3/33) El archivo para 'i' ya existe. Omitiendo.\n",
      "(4/33) El archivo para 'o' ya existe. Omitiendo.\n",
      "(5/33) El archivo para 'u' ya existe. Omitiendo.\n",
      "(6/33) El archivo para 'ay' ya existe. Omitiendo.\n",
      "(7/33) El archivo para 'ee' ya existe. Omitiendo.\n",
      "(8/33) El archivo para 'igh' ya existe. Omitiendo.\n",
      "(9/33) El archivo para 'oh' ya existe. Omitiendo.\n",
      "(10/33) El archivo para 'oo' ya existe. Omitiendo.\n",
      "(11/33) El archivo para 'b' ya existe. Omitiendo.\n",
      "(12/33) El archivo para 'c' ya existe. Omitiendo.\n",
      "(13/33) El archivo para 'd' ya existe. Omitiendo.\n",
      "(14/33) El archivo para 'f' ya existe. Omitiendo.\n",
      "(15/33) El archivo para 'g' ya existe. Omitiendo.\n",
      "(16/33) El archivo para 'h' ya existe. Omitiendo.\n",
      "(17/33) El archivo para 'j' ya existe. Omitiendo.\n",
      "(18/33) El archivo para 'k' ya existe. Omitiendo.\n",
      "(19/33) El archivo para 'l' ya existe. Omitiendo.\n",
      "(20/33) El archivo para 'm' ya existe. Omitiendo.\n",
      "(21/33) El archivo para 'n' ya existe. Omitiendo.\n",
      "(22/33) El archivo para 'p' ya existe. Omitiendo.\n",
      "(23/33) El archivo para 'r' ya existe. Omitiendo.\n",
      "(24/33) El archivo para 's' ya existe. Omitiendo.\n",
      "(25/33) El archivo para 't' ya existe. Omitiendo.\n",
      "(26/33) El archivo para 'v' ya existe. Omitiendo.\n",
      "(27/33) El archivo para 'w' ya existe. Omitiendo.\n",
      "(28/33) El archivo para 'y' ya existe. Omitiendo.\n",
      "(29/33) El archivo para 'z' ya existe. Omitiendo.\n",
      "(30/33) El archivo para 'ch' ya existe. Omitiendo.\n",
      "(31/33) El archivo para 'sh' ya existe. Omitiendo.\n",
      "(32/33) El archivo para 'th' ya existe. Omitiendo.\n",
      "(33/33) El archivo para 'ng' ya existe. Omitiendo.\n",
      "\n",
      "--- Proceso de generación de audio completado. ---\n"
     ]
    }
   ],
   "source": [
    "def generate_audio_files(phoneme_list, lang_code, output_path):\n",
    "    \"\"\"\n",
    "    Genera archivos de audio .wav para una lista de fonemas usando gTTS.\n",
    "    \n",
    "    Args:\n",
    "        phoneme_list (list): Lista de strings a convertir en audio.\n",
    "        lang_code (str): Código de idioma para gTTS (ej. 'es', 'en').\n",
    "        output_path (Path): Directorio donde se guardarán los archivos .wav.\n",
    "    \"\"\"\n",
    "    print(f\"\\n--- Iniciando generación para el idioma: {lang_code} ---\")\n",
    "    \n",
    "    for i, phoneme in enumerate(phoneme_list):\n",
    "        # Definir la ruta del archivo de salida\n",
    "        wav_filepath = output_path / f\"{phoneme}.wav\"\n",
    "        \n",
    "        # Omitir si el archivo ya existe\n",
    "        if wav_filepath.exists():\n",
    "            print(f\"({i+1}/{len(phoneme_list)}) El archivo para '{phoneme}' ya existe. Omitiendo.\")\n",
    "            continue\n",
    "            \n",
    "        try:\n",
    "            # 1. Usar gTTS para crear el objeto de audio\n",
    "            # El 'slow=True' ayuda a una pronunciación más clara de sonidos cortos\n",
    "            tts = gTTS(text=phoneme, lang=lang_code, slow=True)\n",
    "            \n",
    "            # 2. Guardar el audio en un archivo .mp3 temporal\n",
    "            mp3_temp_path = output_path / \"temp.mp3\"\n",
    "            tts.save(mp3_temp_path)\n",
    "            \n",
    "            # 3. Usar pydub para cargar el .mp3 y exportarlo como .wav\n",
    "            audio = AudioSegment.from_mp3(mp3_temp_path)\n",
    "            # Formato WAV: 16-bit PCM, 16kHz sample rate (estándar para habla)\n",
    "            audio.export(wav_filepath, format=\"wav\", parameters=[\"-ac\", \"1\", \"-ar\", \"16000\"])\n",
    "            \n",
    "            # 4. Eliminar el archivo temporal\n",
    "            os.remove(mp3_temp_path)\n",
    "            \n",
    "            print(f\"({i+1}/{len(phoneme_list)}) Archivo para '{phoneme}' guardado correctamente.\")\n",
    "\n",
    "        except Exception as e:\n",
    "            print(f\"Error al procesar '{phoneme}': {e}\")\n",
    "            # Si hubo un error, asegurarse de que el temporal se borre\n",
    "            if os.path.exists(mp3_temp_path):\n",
    "                os.remove(mp3_temp_path)\n",
    "\n",
    "# Generar audios para español\n",
    "generate_audio_files(phonemes_es, 'es', output_dir_es)\n",
    "\n",
    "# Generar audios para inglés\n",
    "generate_audio_files(phonemes_en, 'en', output_dir_en)\n",
    "\n",
    "print(\"\\n--- Proceso de generación de audio completado. ---\")"
   ]
  }
 ],
 "metadata": {
  "kernelspec": {
   "display_name": "venv",
   "language": "python",
   "name": "python3"
  },
  "language_info": {
   "codemirror_mode": {
    "name": "ipython",
    "version": 3
   },
   "file_extension": ".py",
   "mimetype": "text/x-python",
   "name": "python",
   "nbconvert_exporter": "python",
   "pygments_lexer": "ipython3",
   "version": "3.12.3"
  }
 },
 "nbformat": 4,
 "nbformat_minor": 5
}
